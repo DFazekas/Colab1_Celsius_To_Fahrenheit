{
  "nbformat": 4,
  "nbformat_minor": 0,
  "metadata": {
    "colab": {
      "name": "Colab1_Celsius_To_Fahrenheit.ipynb",
      "provenance": [],
      "collapsed_sections": [],
      "authorship_tag": "ABX9TyPDzz/YpUPMOkeuUHggaF7G",
      "include_colab_link": true
    },
    "kernelspec": {
      "name": "python3",
      "display_name": "Python 3"
    }
  },
  "cells": [
    {
      "cell_type": "markdown",
      "metadata": {
        "id": "view-in-github",
        "colab_type": "text"
      },
      "source": [
        "<a href=\"https://colab.research.google.com/github/DFazekas/Colab1_Celsius_To_Fahrenheit/blob/master/Colab1_Celsius_To_Fahrenheit.ipynb\" target=\"_parent\"><img src=\"https://colab.research.google.com/assets/colab-badge.svg\" alt=\"Open In Colab\"/></a>"
      ]
    },
    {
      "cell_type": "code",
      "metadata": {
        "id": "6biPRMzDwNzT",
        "colab_type": "code",
        "colab": {}
      },
      "source": [
        ""
      ],
      "execution_count": null,
      "outputs": []
    },
    {
      "cell_type": "markdown",
      "metadata": {
        "id": "LFQSYOzvxJGH",
        "colab_type": "text"
      },
      "source": [
        "# The Basics: Training Your First Model\n",
        "The problem we will solve is to convert from Celsius to Fahrenheit, where the approximate formula is:\n",
        "\n",
        "$$ f = c \\times 1.8 + 32 $$\n",
        "\n",
        "Although it would be easy enough to construct a conventional Python function to directly perform this calculation, that wouldn't be machine learning.\n",
        "\n",
        "Instead, we will give TensorFlow training data: Celcius values (0, 8, 15, 22, 38) and their corresponding Fahrenheit values (32, 46, 59, 72, 100). It'll use these values to train a model for learning the above formula through the training process."
      ]
    },
    {
      "cell_type": "markdown",
      "metadata": {
        "id": "d4l9KhbHy9JC",
        "colab_type": "text"
      },
      "source": [
        "# Import dependencies\n",
        "Before we can use TensorFlow, we need to import it. For simplicity, we'll rename it as \"tf\" and to only display errors.\n",
        "\n",
        "Next, we'll also need NumPy imported as \"np.\" Numpy helps to represent our data as highly performant lists."
      ]
    },
    {
      "cell_type": "code",
      "metadata": {
        "id": "MJCJdlbKzjlY",
        "colab_type": "code",
        "colab": {}
      },
      "source": [
        "import tensorflow as tf"
      ],
      "execution_count": 1,
      "outputs": []
    },
    {
      "cell_type": "code",
      "metadata": {
        "id": "lJD0JqakzlzA",
        "colab_type": "code",
        "colab": {}
      },
      "source": [
        "import numpy as np\n",
        "import logging\n",
        "logger = tf.get_logger()\n",
        "logger.setLevel(logging.ERROR)"
      ],
      "execution_count": 2,
      "outputs": []
    },
    {
      "cell_type": "markdown",
      "metadata": {
        "id": "_K8xJTUNzydt",
        "colab_type": "text"
      },
      "source": [
        "# Set up training data\n",
        "Supervised machine learning is all about providing the inputs and outputs to discover an algorithm. We'll create two lists `celcius_q` and `fahrenheit_a` that we can use to train our model."
      ]
    },
    {
      "cell_type": "code",
      "metadata": {
        "id": "Lr-yE2OO0TuV",
        "colab_type": "code",
        "colab": {
          "base_uri": "https://localhost:8080/",
          "height": 136
        },
        "outputId": "ddf65f0b-42ff-48a6-e14e-960a0701f674"
      },
      "source": [
        "celsius_q     = np.array([-40, -10, 0, 8, 15, 22, 38],  dtype=float)\n",
        "fahrenheit_a  = np.array([-40, 14, 32, 46, 59, 72, 100], dtype=float)\n",
        "\n",
        "for c,f in zip(celsius_q, fahrenheit_a):\n",
        "  print(\"{} degrees Celsius = {} degrees Fahrenheit\".format(c, f))"
      ],
      "execution_count": 5,
      "outputs": [
        {
          "output_type": "stream",
          "text": [
            "-40.0 degrees Celsius = -40.0 degrees Fahrenheit\n",
            "-10.0 degrees Celsius = 14.0 degrees Fahrenheit\n",
            "0.0 degrees Celsius = 32.0 degrees Fahrenheit\n",
            "8.0 degrees Celsius = 46.0 degrees Fahrenheit\n",
            "15.0 degrees Celsius = 59.0 degrees Fahrenheit\n",
            "22.0 degrees Celsius = 72.0 degrees Fahrenheit\n",
            "38.0 degrees Celsius = 100.0 degrees Fahrenheit\n"
          ],
          "name": "stdout"
        }
      ]
    },
    {
      "cell_type": "markdown",
      "metadata": {
        "id": "l-2mMHI71YKz",
        "colab_type": "text"
      },
      "source": [
        "# Create a model\n",
        "Next, create a model. We'll create the simplest possible model -- a Dense network. Since the problem is straightforward, this network will require only a single layer, with a single neuron.\n",
        "\n",
        "A **Dense** network is one where each neuron in a layer receives an input from all the neurons present in the previous layer -- thus, they're densely connected.\n",
        "\n",
        "## Build a layer\n",
        "We'll call the layer `l0` and create it by instantiating `tf.keras.layers.Dense` with the following configuration:\n",
        "- `input_shape=[1]` -- This specifies that the input to this layer is a single value. That is, the shape is a one-dimensional array with one member. Since this is the first (and only) layer, that input shape is the input shape of the entire model. The single value is a floating point number, representing degrees Celsius.\n",
        "- `units=1` -- This specifies the number of neurons in the layer. The number of neurons defines how many internal variables the layer has to try to learn how to solve the problem. Since this is the final layer, it is also the size of the model's output -- a single float value representing degrees Fahrenheit. (In a multi-layered network, the size and shape of the layer would need to match the `input_shape` of the next layer)."
      ]
    },
    {
      "cell_type": "code",
      "metadata": {
        "id": "cLSvFYZH237H",
        "colab_type": "code",
        "colab": {}
      },
      "source": [
        "l0 = tf.keras.layers.Dense(units=1, input_shape=[1])"
      ],
      "execution_count": 6,
      "outputs": []
    },
    {
      "cell_type": "markdown",
      "metadata": {
        "id": "42gPJNmS3X6u",
        "colab_type": "text"
      },
      "source": [
        "## Assemble layers into the model\n",
        "Once layers are defined, they need to be assembled into a model. The Sequential model definition takes a list of layers as an argument, specifying the calculation order from the input to the output.\n",
        "\n",
        "This model has just a single layer, `l0`."
      ]
    },
    {
      "cell_type": "code",
      "metadata": {
        "id": "WE08sOyU3o2U",
        "colab_type": "code",
        "colab": {}
      },
      "source": [
        "model = tf.keras.Sequential([l0])"
      ],
      "execution_count": 7,
      "outputs": []
    },
    {
      "cell_type": "markdown",
      "metadata": {
        "id": "Y95UJA7m3zVT",
        "colab_type": "text"
      },
      "source": [
        "## Compile the model, with loss and optimizer functions\n",
        "Before training, the model has to be compiled. When compiled for training, the model is given:\n",
        "- Loss Function -- A way of measuring how far off predictions are from the desired outcome. (The measured difference is called the \"loss.\")\n",
        "- Optimizer Function -- A way of adjusting internal values in order to reduce the loss."
      ]
    },
    {
      "cell_type": "code",
      "metadata": {
        "id": "yihVYg8K4Pad",
        "colab_type": "code",
        "colab": {}
      },
      "source": [
        "model.compile(\n",
        "    loss=\"mean_squared_error\", \n",
        "    optimizer=tf.keras.optimizers.Adam(0.1))"
      ],
      "execution_count": 8,
      "outputs": []
    },
    {
      "cell_type": "markdown",
      "metadata": {
        "id": "3q05sdldzona",
        "colab_type": "text"
      },
      "source": [
        "These are used during training (`model.fit()`, below) to first calculate the loss of each point, and then improve it. In fact, the act of calculating the current loss of a model and then improving it is precisely what training is.\n",
        "\n",
        "During training, the optimizer function is used to calculate adjustments to the model's internal variables. The goal is to adjust the internal variables until the model (which is really a math function) mirrors the exact equation for converting Celcius to Fahrenheit.\n",
        "\n",
        "TensorFlow uses numerical analysis to perform this tuning, and all this complexity is hidden away from you so we will not go into the details here. What is useful to know about these parameters are:\n",
        "\n",
        "The loss function (mean squared error) and the optimizer (Adam) used here are standard for simple models like this one, but many others are available. It is not important to know how these specific functions work at this point.\n",
        "\n",
        "One part of the Optimizer you may need to think about when building your own models is the learning rate (`0.1` in the code above). This is the step size taken when adjustig values in the model. If the vlaue is too small, it will take too many iterations to train the model. Too large, and the accuracy goes down. Finding a good value often involves some trail and error, but the range is usually within 0.001 (default), and 0.1."
      ]
    },
    {
      "cell_type": "markdown",
      "metadata": {
        "id": "67zDcxLD4WJP",
        "colab_type": "text"
      },
      "source": [
        "## Train the model\n",
        "Train the model by calling the `fit` method.\n",
        "\n",
        "During training, the model takes in Celsius values, performs a calculation using the current internal variables (called \"weights\") and outputs values which are meant to be the Fahrenheit equivalent. Since the weights are initially set randomly, the output will not be close to the correct value. The difference between the actual output and the desired output is calculated using the loss function, and the optimizer function directs how the weight should be adjusted.\n",
        "\n",
        "This cycle of calculate, compare, adjust is controlled by the `fit` method. The first argument is the inputs, the second argument is the desired outputs. The `epochs` argument specifies how many times this cycle should be run, and the `verbose` argument controls how much output the method produces."
      ]
    },
    {
      "cell_type": "code",
      "metadata": {
        "id": "lJgr6Vuk4oV-",
        "colab_type": "code",
        "colab": {
          "base_uri": "https://localhost:8080/",
          "height": 34
        },
        "outputId": "9483cab3-9b30-418c-d8fd-a5ea491589cf"
      },
      "source": [
        "history = model.fit(celsius_q, fahrenheit_a, epochs=500, verbose=False)\n",
        "print(\"Finished training the model.\")"
      ],
      "execution_count": 10,
      "outputs": [
        {
          "output_type": "stream",
          "text": [
            "Finished training the model.\n"
          ],
          "name": "stdout"
        }
      ]
    },
    {
      "cell_type": "markdown",
      "metadata": {
        "id": "NSAL0imt56xD",
        "colab_type": "text"
      },
      "source": [
        "In later videos, we will go into more detail on what actually happens here and how a Dense layer actually works internally."
      ]
    },
    {
      "cell_type": "markdown",
      "metadata": {
        "id": "ZbxSSj7f6Odt",
        "colab_type": "text"
      },
      "source": [
        "## Display training statistics\n",
        "The `fit` method returns a history object. We can use this object to plot how the loss of our model goes down after each training epoche. A high loss means that the Fahrenheit degrees that the model predicts is far from the corresponding value in `fahrenheit_a`.\n",
        "\n",
        "We'll use Matplotlib to visualize this (you could use another tool). As you can see, our model improves very quickly at first, and then has a steady, slow improvement until it is very near \"perfect\" towards the end."
      ]
    },
    {
      "cell_type": "code",
      "metadata": {
        "id": "iLzoMzLF6NOD",
        "colab_type": "code",
        "colab": {
          "base_uri": "https://localhost:8080/",
          "height": 297
        },
        "outputId": "4d987e52-ecfb-4c02-990a-88e4c5e123ce"
      },
      "source": [
        "import matplotlib.pyplot as plt\n",
        "plt.xlabel('Epoch Number')\n",
        "plt.ylabel('Loss Magnitude')\n",
        "plt.plot(history.history['loss'])"
      ],
      "execution_count": 12,
      "outputs": [
        {
          "output_type": "execute_result",
          "data": {
            "text/plain": [
              "[<matplotlib.lines.Line2D at 0x7efee8bba5c0>]"
            ]
          },
          "metadata": {
            "tags": []
          },
          "execution_count": 12
        },
        {
          "output_type": "display_data",
          "data": {
            "image/png": "[encoded data removed]",
            "text/plain": [
              "<Figure size 432x288 with 1 Axes>"
            ]
          },
          "metadata": {
            "tags": [],
            "needs_background": "light"
          }
        }
      ]
    },
    {
      "cell_type": "markdown",
      "metadata": {
        "id": "10junG5Z7njt",
        "colab_type": "text"
      },
      "source": [
        "## Use the model to predict values\n",
        "Now you have a model that has been trained to learn the relationship between `celsius_q` and `fahrenheit_a`. You can use the predict method to have it calculate the Fahrenheit degrees for a preivously unknown Celcius degrees.\n",
        "\n",
        "So, for example, if the Celcius values is 100, what do you think the Fahrenheit result will be? Take a guess before you run this code."
      ]
    },
    {
      "cell_type": "code",
      "metadata": {
        "id": "g8ryOdsB5yVS",
        "colab_type": "code",
        "colab": {
          "base_uri": "https://localhost:8080/",
          "height": 34
        },
        "outputId": "80accd8e-8f55-488b-c8ca-225e427677b8"
      },
      "source": [
        "print(model.predict([100.0]))"
      ],
      "execution_count": 13,
      "outputs": [
        {
          "output_type": "stream",
          "text": [
            "[[211.33656]]\n"
          ],
          "name": "stdout"
        }
      ]
    },
    {
      "cell_type": "markdown",
      "metadata": {
        "id": "fyDJHGnR8TfH",
        "colab_type": "text"
      },
      "source": [
        "The correst answer is $100 \\times 1.8 + 32 = 212$, so our model is doing very well.\n",
        "\n",
        "### To review\n",
        "\n",
        "\n",
        "*   We created a model with a Dense layer\n",
        "*   We trained it with 3500 examples (7 pairs, over 500 epoches)\n",
        "\n",
        "Our model tuned the variables (weights) in the Dense layer until it was able to return the correct Fahrenheit value for any Celcius value. (Remember, 100 Celcius was not part of our training data.)\n",
        "\n"
      ]
    },
    {
      "cell_type": "markdown",
      "metadata": {
        "id": "6ssj2uZz9MF3",
        "colab_type": "text"
      },
      "source": [
        "## Looking at the layer weights\n",
        "Finally, let's print the internal variables of the Dense layer."
      ]
    },
    {
      "cell_type": "code",
      "metadata": {
        "id": "8zH9HIU09GuV",
        "colab_type": "code",
        "colab": {
          "base_uri": "https://localhost:8080/",
          "height": 54
        },
        "outputId": "af56d827-d63f-47ab-be3b-e8cba2fef3aa"
      },
      "source": [
        "print(\"These are the layer variables: {}\".format(l0.get_weights()))"
      ],
      "execution_count": 15,
      "outputs": [
        {
          "output_type": "stream",
          "text": [
            "These are the layer variables: [array([[1.820751]], dtype=float32), array([29.26148], dtype=float32)]\n"
          ],
          "name": "stdout"
        }
      ]
    },
    {
      "cell_type": "markdown",
      "metadata": {
        "id": "1iV9Iwrc9ZaX",
        "colab_type": "text"
      },
      "source": [
        "The first variable is close to ~1.8 and the second to ~32. These values (1.8 and 32) are the actual variables in the real conversion formula.\n",
        "\n",
        "This is really close to the values in the conversion formula. We'll explain this in an upcoming video where we show how a Dense layer works, but for a single neuron with a single input and single output, the internal math looks the same as the equation for a line, $y=mx+b$, which has the same form as the conversion equation, $f=1.8c+32$.\n",
        "\n",
        "Since the form is the same, the variables should converge on the standard values of 1.8 and 32, which is exactly what happened.\n",
        "\n",
        "With additional neurons, additional inputs, and additional outputs, the formula becomes much more complex, but the idea is the same."
      ]
    },
    {
      "cell_type": "markdown",
      "metadata": {
        "id": "qqRAZ8wh-YuP",
        "colab_type": "text"
      },
      "source": [
        "## A little experiment\n",
        "Just for fun, what is we created more Dense layers with different units, which therefore has more variables?"
      ]
    },
    {
      "cell_type": "code",
      "metadata": {
        "id": "iVa_GxkG9Xbf",
        "colab_type": "code",
        "colab": {
          "base_uri": "https://localhost:8080/",
          "height": 238
        },
        "outputId": "a52f03b8-a094-41d3-c511-37d2571ca8ef"
      },
      "source": [
        "l0 = tf.keras.layers.Dense(units=4, input_shape=[1])\n",
        "l1 = tf.keras.layers.Dense(units=4)\n",
        "l2 = tf.keras.layers.Dense(units=1)\n",
        "\n",
        "model = tf.keras.Sequential([l0, l1, l2])\n",
        "model.compile(loss='mean_squared_error', optimizer=tf.keras.optimizers.Adam(0.1))\n",
        "model.fit(celsius_q, fahrenheit_a, epochs=500, verbose=False)\n",
        "\n",
        "print(\"Finished training the model.\")\n",
        "print(\"Model predicts that 100 degrees Celcius is: {} degrees Fahrenheit.\".format(model.predict([100.0])))\n",
        "print(\"These are the l0 variables: {}\".format(l0.get_weights()))\n",
        "print(\"These are the l1 variables: {}\".format(l1.get_weights()))\n",
        "print(\"These are the l2 variables: {}\".format(l2.get_weights()))"
      ],
      "execution_count": 16,
      "outputs": [
        {
          "output_type": "stream",
          "text": [
            "Finished training the model.\n",
            "Model predicts that 100 degrees Celcius is: [[211.74744]] degrees Fahrenheit.\n",
            "These are the l0 variables: [array([[-0.614609  ,  0.7725018 , -0.29528964, -0.10910861]],\n",
            "      dtype=float32), array([-3.8716495,  3.869182 ,  2.8800201, -0.6825069], dtype=float32)]\n",
            "These are the l1 variables: [array([[ 1.1443269 , -0.06088413, -0.12940155,  0.5007154 ],\n",
            "       [-1.131323  ,  0.22880004,  0.3934346 ,  0.10451993],\n",
            "       [-0.9095193 ,  0.07786641,  0.7638636 , -0.21925527],\n",
            "       [-0.48579472, -0.3541342 , -0.63362384, -0.26360345]],\n",
            "      dtype=float32), array([-3.6962667 , -2.5341423 ,  3.5221539 ,  0.89295346], dtype=float32)]\n",
            "These are the l2 variables: [array([[-1.2253575 ],\n",
            "       [-0.12185814],\n",
            "       [ 1.2234981 ],\n",
            "       [-0.07126854]], dtype=float32), array([3.6283507], dtype=float32)]\n"
          ],
          "name": "stdout"
        }
      ]
    },
    {
      "cell_type": "markdown",
      "metadata": {
        "id": "uf4BPxC1ARCx",
        "colab_type": "text"
      },
      "source": [
        "As you can see, this model is also able to predict the corresponding Fahrenheit value really well. But when you look at the variables (weights) in the `l0` and `l1` layers, they are nothing even close to ~1.8 and ~32. The added complexity hides the \"simple\" form of the conversion equation."
      ]
    },
    {
      "cell_type": "code",
      "metadata": {
        "id": "jSuEOEIg_1QI",
        "colab_type": "code",
        "colab": {}
      },
      "source": [
        ""
      ],
      "execution_count": null,
      "outputs": []
    }
  ]
}